{
 "cells": [
  {
   "attachments": {},
   "cell_type": "markdown",
   "metadata": {
    "colab_type": "text",
    "id": "EO5N-h8_Vbg_"
   },
   "source": [
    " Advance Deep Learning and Computer Vision                                                                      \n"
   ]
  },
  {
   "cell_type": "markdown",
   "metadata": {},
   "source": [
    "#### Project 2\n",
    "## Perform Facial Recognition with Deep Learning in Keras Using CNN"
   ]
  },
  {
   "cell_type": "markdown",
   "metadata": {
    "colab_type": "text",
    "id": "bqetlXSnVbhA"
   },
   "source": [
    "### Import the required libraries"
   ]
  },
  {
   "cell_type": "code",
   "execution_count": 1,
   "metadata": {
    "colab": {},
    "colab_type": "code",
    "id": "349vkogBVbhB",
    "outputId": "35212391-0c54-4d8a-b734-f09d12dbe3bc"
   },
   "outputs": [],
   "source": [
    "\n",
    "import keras\n",
    "from keras.models import Sequential\n",
    "from keras.layers import Conv2D, MaxPooling2D, Dense, Flatten, Dropout\n",
    "from keras.optimizers import Adam\n",
    "from keras.callbacks import TensorBoard\n",
    "\n",
    "import numpy as np\n",
    "import pandas as pd\n",
    "import matplotlib.pyplot as plt\n",
    "from sklearn.model_selection import train_test_split\n",
    "\n",
    "from sklearn.metrics import confusion_matrix\n",
    "from sklearn.metrics import classification_report\n",
    "from sklearn.metrics import roc_curve, auc\n",
    "from sklearn.metrics import accuracy_score\n",
    "from keras.utils import np_utils\n",
    "import itertools"
   ]
  },
  {
   "cell_type": "markdown",
   "metadata": {
    "colab_type": "text",
    "id": "olbIvv7DVbhG"
   },
   "source": [
    "### Loading  the dataset and normalizing the images."
   ]
  },
  {
   "cell_type": "code",
   "execution_count": 2,
   "metadata": {},
   "outputs": [],
   "source": [
    "#load dataset\n",
    "data = np.load('ORL_faces.npz')\n",
    "x_train = data['trainX']"
   ]
  },
  {
   "cell_type": "code",
   "execution_count": 3,
   "metadata": {},
   "outputs": [],
   "source": [
    "\n",
    "#normalize every image\n",
    "x_train = np.array(x_train,dtype='float32')/255\n",
    "\n",
    "x_test = data['testX']\n",
    "x_test = np.array(x_test,dtype='float32')/255"
   ]
  },
  {
   "cell_type": "code",
   "execution_count": 4,
   "metadata": {},
   "outputs": [],
   "source": [
    "# load the Label of Images\n",
    "y_train= data['trainY']\n",
    "y_test= data['testY']"
   ]
  },
  {
   "cell_type": "code",
   "execution_count": 5,
   "metadata": {
    "colab": {},
    "colab_type": "code",
    "id": "T3N7f2vBVbhH",
    "outputId": "8b14d390-0cf4-42a4-fa45-f2854414f945"
   },
   "outputs": [
    {
     "name": "stdout",
     "output_type": "stream",
     "text": [
      "x_train : [[0.1882353  0.19215687 0.1764706  ... 0.18431373 0.18039216 0.18039216]\n",
      " [0.23529412 0.23529412 0.24313726 ... 0.1254902  0.13333334 0.13333334]\n",
      " [0.15294118 0.17254902 0.20784314 ... 0.11372549 0.10196079 0.11372549]\n",
      " ...\n",
      " [0.44705883 0.45882353 0.44705883 ... 0.38431373 0.3764706  0.38431373]\n",
      " [0.4117647  0.4117647  0.41960785 ... 0.21176471 0.18431373 0.16078432]\n",
      " [0.45490196 0.44705883 0.45882353 ... 0.37254903 0.39215687 0.39607844]]\n",
      "x_train shape : (240, 10304)\n",
      "Y-train : [ 0  0  0  0  0  0  0  0  0  0  0  0  1  1  1  1  1  1  1  1  1  1  1  1\n",
      "  2  2  2  2  2  2  2  2  2  2  2  2  3  3  3  3  3  3  3  3  3  3  3  3\n",
      "  4  4  4  4  4  4  4  4  4  4  4  4  5  5  5  5  5  5  5  5  5  5  5  5\n",
      "  6  6  6  6  6  6  6  6  6  6  6  6  7  7  7  7  7  7  7  7  7  7  7  7\n",
      "  8  8  8  8  8  8  8  8  8  8  8  8  9  9  9  9  9  9  9  9  9  9  9  9\n",
      " 10 10 10 10 10 10 10 10 10 10 10 10 11 11 11 11 11 11 11 11 11 11 11 11\n",
      " 12 12 12 12 12 12 12 12 12 12 12 12 13 13 13 13 13 13 13 13 13 13 13 13\n",
      " 14 14 14 14 14 14 14 14 14 14 14 14 15 15 15 15 15 15 15 15 15 15 15 15\n",
      " 16 16 16 16 16 16 16 16 16 16 16 16 17 17 17 17 17 17 17 17 17 17 17 17\n",
      " 18 18 18 18 18 18 18 18 18 18 18 18 19 19 19 19 19 19 19 19 19 19 19 19]\n",
      "Y-train shape: (240,)\n",
      "x_test shape: (160, 10304)\n"
     ]
    }
   ],
   "source": [
    "# show the train and test Data format\n",
    "print('x_train : {}'.format(x_train[:]))\n",
    "print('x_train shape : {}'.format(x_train.shape))\n",
    "\n",
    "print('Y-train : {}'.format(y_train))\n",
    "print('Y-train shape: {}'.format(y_train.shape))\n",
    "print('x_test shape: {}'.format(x_test.shape))"
   ]
  },
  {
   "cell_type": "markdown",
   "metadata": {
    "colab_type": "text",
    "id": "jkUHohkeVbhL"
   },
   "source": [
    "### Split the dataset \n",
    "#### ( Validate and train the data )\n"
   ]
  },
  {
   "cell_type": "code",
   "execution_count": 6,
   "metadata": {
    "colab": {},
    "colab_type": "code",
    "id": "XPF9YPl3VbhM"
   },
   "outputs": [],
   "source": [
    "x_train, x_valid, y_train, y_valid= train_test_split(\n",
    "    x_train, y_train, test_size=.05, random_state=20,)"
   ]
  },
  {
   "cell_type": "markdown",
   "metadata": {
    "colab_type": "text",
    "id": "aL9k_xoSVbhP"
   },
   "source": [
    "##Change the size of the images\n",
    "\n",
    "For using the CNN, you need to change the size of images. Transform the images to equal sizes to feed in CNN.\n"
   ]
  },
  {
   "cell_type": "code",
   "execution_count": 7,
   "metadata": {
    "colab": {},
    "colab_type": "code",
    "id": "Ze6IqzlyVbhQ",
    "outputId": "3c00f3ce-d0b9-41b3-d93a-bbe23d6a26ba"
   },
   "outputs": [
    {
     "name": "stdout",
     "output_type": "stream",
     "text": [
      "x_train shape: (228, 112, 92, 1)\n",
      "x_test shape: (160, 112, 92, 1)\n"
     ]
    }
   ],
   "source": [
    "im_rows=112\n",
    "im_cols=92\n",
    "batch_size=24\n",
    "im_shape=(im_rows, im_cols, 1)\n",
    "\n",
    "#change the size of images\n",
    "x_train = x_train.reshape(x_train.shape[0], *im_shape)\n",
    "x_test = x_test.reshape(x_test.shape[0], *im_shape)\n",
    "x_valid = x_valid.reshape(x_valid.shape[0], *im_shape)\n",
    "\n",
    "print('x_train shape: {}'.format(x_train.shape))\n",
    "print('x_test shape: {}'.format(x_test.shape))"
   ]
  },
  {
   "cell_type": "markdown",
   "metadata": {
    "colab_type": "text",
    "id": "MqMNq2mQVbhU"
   },
   "source": [
    "### Build a CNN model that has 3 main layers\n",
    " \n",
    " 1. Convolotional Layer \n",
    " 2. Pooling Layer  \n",
    " 3. Fully Connected Layer"
   ]
  },
  {
   "cell_type": "code",
   "execution_count": 8,
   "metadata": {
    "colab": {},
    "colab_type": "code",
    "id": "lBlrU7gtVbhU"
   },
   "outputs": [
    {
     "name": "stdout",
     "output_type": "stream",
     "text": [
      "[2021-03-24 04:23:03.525 tensorflow-2-3-gpu--ml-g4dn-xlarge-c85184389676cdfa7bdf06745c9b:1519 INFO utils.py:27] RULE_JOB_STOP_SIGNAL_FILENAME: None\n",
      "[2021-03-24 04:23:03.551 tensorflow-2-3-gpu--ml-g4dn-xlarge-c85184389676cdfa7bdf06745c9b:1519 INFO profiler_config_parser.py:102] Unable to find config at /opt/ml/input/config/profilerconfig.json. Profiler is disabled.\n"
     ]
    }
   ],
   "source": [
    "cnn_model= Sequential([\n",
    "    Conv2D(filters=36, kernel_size=7, activation='relu', input_shape= im_shape),\n",
    "    MaxPooling2D(pool_size=2),\n",
    "    Conv2D(filters=54, kernel_size=5, activation='relu', input_shape= im_shape),\n",
    "    MaxPooling2D(pool_size=2),\n",
    "    Flatten(),\n",
    "    Dense(2024, activation='relu'),\n",
    "     Dropout(0.5),\n",
    "    Dense(1024, activation='relu'),\n",
    "    Dropout(0.5),\n",
    "    Dense(512, activation='relu'),\n",
    "    Dropout(0.5),\n",
    "    #20 is the number of outputs\n",
    "    Dense(20, activation='softmax')  \n",
    "])\n",
    "\n",
    "cnn_model.compile(\n",
    "    loss='sparse_categorical_crossentropy',#'categorical_crossentropy',\n",
    "    optimizer=Adam(lr=0.0001),\n",
    "    metrics=['accuracy']\n",
    ")"
   ]
  },
  {
   "cell_type": "markdown",
   "metadata": {
    "colab_type": "text",
    "id": "OEcIqaj2VbhY"
   },
   "source": [
    "### Show the model Summary."
   ]
  },
  {
   "cell_type": "code",
   "execution_count": 9,
   "metadata": {
    "colab": {},
    "colab_type": "code",
    "id": "tnotkzgAVbhZ",
    "outputId": "68647d1d-3228-46ef-9b47-7704196f1502"
   },
   "outputs": [
    {
     "name": "stdout",
     "output_type": "stream",
     "text": [
      "Model: \"sequential\"\n",
      "_________________________________________________________________\n",
      "Layer (type)                 Output Shape              Param #   \n",
      "=================================================================\n",
      "conv2d (Conv2D)              (None, 106, 86, 36)       1800      \n",
      "_________________________________________________________________\n",
      "max_pooling2d (MaxPooling2D) (None, 53, 43, 36)        0         \n",
      "_________________________________________________________________\n",
      "conv2d_1 (Conv2D)            (None, 49, 39, 54)        48654     \n",
      "_________________________________________________________________\n",
      "max_pooling2d_1 (MaxPooling2 (None, 24, 19, 54)        0         \n",
      "_________________________________________________________________\n",
      "flatten (Flatten)            (None, 24624)             0         \n",
      "_________________________________________________________________\n",
      "dense (Dense)                (None, 2024)              49841000  \n",
      "_________________________________________________________________\n",
      "dropout (Dropout)            (None, 2024)              0         \n",
      "_________________________________________________________________\n",
      "dense_1 (Dense)              (None, 1024)              2073600   \n",
      "_________________________________________________________________\n",
      "dropout_1 (Dropout)          (None, 1024)              0         \n",
      "_________________________________________________________________\n",
      "dense_2 (Dense)              (None, 512)               524800    \n",
      "_________________________________________________________________\n",
      "dropout_2 (Dropout)          (None, 512)               0         \n",
      "_________________________________________________________________\n",
      "dense_3 (Dense)              (None, 20)                10260     \n",
      "=================================================================\n",
      "Total params: 52,500,114\n",
      "Trainable params: 52,500,114\n",
      "Non-trainable params: 0\n",
      "_________________________________________________________________\n"
     ]
    }
   ],
   "source": [
    "cnn_model.summary()"
   ]
  },
  {
   "cell_type": "markdown",
   "metadata": {
    "colab_type": "text",
    "id": "VWPmV7ajVbhd"
   },
   "source": [
    "### Train the model"
   ]
  },
  {
   "cell_type": "code",
   "execution_count": 10,
   "metadata": {
    "colab": {},
    "colab_type": "code",
    "id": "uEdQbfJRVbhe",
    "outputId": "ed70e088-e20f-4c3f-8a7e-99a6496e9216"
   },
   "outputs": [
    {
     "name": "stdout",
     "output_type": "stream",
     "text": [
      "Epoch 1/100\n",
      "10/10 - 1s - loss: 3.1200 - accuracy: 0.0526 - val_loss: 3.0410 - val_accuracy: 0.0000e+00\n",
      "Epoch 2/100\n",
      "10/10 - 0s - loss: 3.0359 - accuracy: 0.0439 - val_loss: 3.0095 - val_accuracy: 0.0000e+00\n",
      "Epoch 3/100\n",
      "10/10 - 0s - loss: 2.9921 - accuracy: 0.0702 - val_loss: 2.9920 - val_accuracy: 0.0000e+00\n",
      "Epoch 4/100\n",
      "10/10 - 0s - loss: 2.9817 - accuracy: 0.0789 - val_loss: 2.9779 - val_accuracy: 0.2500\n",
      "Epoch 5/100\n",
      "10/10 - 0s - loss: 2.9742 - accuracy: 0.1096 - val_loss: 2.9626 - val_accuracy: 0.2500\n",
      "Epoch 6/100\n",
      "10/10 - 0s - loss: 2.9559 - accuracy: 0.1272 - val_loss: 2.9313 - val_accuracy: 0.4167\n",
      "Epoch 7/100\n",
      "10/10 - 0s - loss: 2.9161 - accuracy: 0.1140 - val_loss: 2.8660 - val_accuracy: 0.3333\n",
      "Epoch 8/100\n",
      "10/10 - 0s - loss: 2.8429 - accuracy: 0.1491 - val_loss: 2.8030 - val_accuracy: 0.3333\n",
      "Epoch 9/100\n",
      "10/10 - 0s - loss: 2.8114 - accuracy: 0.1842 - val_loss: 2.6857 - val_accuracy: 0.2500\n",
      "Epoch 10/100\n",
      "10/10 - 0s - loss: 2.7347 - accuracy: 0.1754 - val_loss: 2.5180 - val_accuracy: 0.2500\n",
      "Epoch 11/100\n",
      "10/10 - 0s - loss: 2.6150 - accuracy: 0.2149 - val_loss: 2.2124 - val_accuracy: 0.5833\n",
      "Epoch 12/100\n",
      "10/10 - 0s - loss: 2.3789 - accuracy: 0.3070 - val_loss: 1.9718 - val_accuracy: 0.7500\n",
      "Epoch 13/100\n",
      "10/10 - 0s - loss: 2.2892 - accuracy: 0.3026 - val_loss: 1.6075 - val_accuracy: 0.7500\n",
      "Epoch 14/100\n",
      "10/10 - 0s - loss: 2.0081 - accuracy: 0.4035 - val_loss: 1.2561 - val_accuracy: 0.7500\n",
      "Epoch 15/100\n",
      "10/10 - 0s - loss: 1.7480 - accuracy: 0.4474 - val_loss: 0.9524 - val_accuracy: 0.8333\n",
      "Epoch 16/100\n",
      "10/10 - 0s - loss: 1.5741 - accuracy: 0.5482 - val_loss: 0.6793 - val_accuracy: 0.9167\n",
      "Epoch 17/100\n",
      "10/10 - 0s - loss: 1.2960 - accuracy: 0.5702 - val_loss: 0.4683 - val_accuracy: 1.0000\n",
      "Epoch 18/100\n",
      "10/10 - 0s - loss: 1.0769 - accuracy: 0.6447 - val_loss: 0.3540 - val_accuracy: 1.0000\n",
      "Epoch 19/100\n",
      "10/10 - 0s - loss: 0.9907 - accuracy: 0.7061 - val_loss: 0.2080 - val_accuracy: 1.0000\n",
      "Epoch 20/100\n",
      "10/10 - 0s - loss: 0.9773 - accuracy: 0.6798 - val_loss: 0.2619 - val_accuracy: 1.0000\n",
      "Epoch 21/100\n",
      "10/10 - 0s - loss: 0.7947 - accuracy: 0.7763 - val_loss: 0.1856 - val_accuracy: 1.0000\n",
      "Epoch 22/100\n",
      "10/10 - 0s - loss: 0.6344 - accuracy: 0.7982 - val_loss: 0.0594 - val_accuracy: 1.0000\n",
      "Epoch 23/100\n",
      "10/10 - 0s - loss: 0.5760 - accuracy: 0.8026 - val_loss: 0.0779 - val_accuracy: 1.0000\n",
      "Epoch 24/100\n",
      "10/10 - 0s - loss: 0.4820 - accuracy: 0.8728 - val_loss: 0.0682 - val_accuracy: 1.0000\n",
      "Epoch 25/100\n",
      "10/10 - 0s - loss: 0.3544 - accuracy: 0.8991 - val_loss: 0.0322 - val_accuracy: 1.0000\n",
      "Epoch 26/100\n",
      "10/10 - 0s - loss: 0.3700 - accuracy: 0.9035 - val_loss: 0.0244 - val_accuracy: 1.0000\n",
      "Epoch 27/100\n",
      "10/10 - 0s - loss: 0.3004 - accuracy: 0.9254 - val_loss: 0.0229 - val_accuracy: 1.0000\n",
      "Epoch 28/100\n",
      "10/10 - 0s - loss: 0.2554 - accuracy: 0.9254 - val_loss: 0.0460 - val_accuracy: 1.0000\n",
      "Epoch 29/100\n",
      "10/10 - 0s - loss: 0.1976 - accuracy: 0.9474 - val_loss: 0.0235 - val_accuracy: 1.0000\n",
      "Epoch 30/100\n",
      "10/10 - 0s - loss: 0.1811 - accuracy: 0.9605 - val_loss: 0.0102 - val_accuracy: 1.0000\n",
      "Epoch 31/100\n",
      "10/10 - 0s - loss: 0.1882 - accuracy: 0.9474 - val_loss: 0.0079 - val_accuracy: 1.0000\n",
      "Epoch 32/100\n",
      "10/10 - 0s - loss: 0.1886 - accuracy: 0.9430 - val_loss: 0.0116 - val_accuracy: 1.0000\n",
      "Epoch 33/100\n",
      "10/10 - 0s - loss: 0.1804 - accuracy: 0.9518 - val_loss: 0.0081 - val_accuracy: 1.0000\n",
      "Epoch 34/100\n",
      "10/10 - 0s - loss: 0.1223 - accuracy: 0.9693 - val_loss: 0.0023 - val_accuracy: 1.0000\n",
      "Epoch 35/100\n",
      "10/10 - 0s - loss: 0.1215 - accuracy: 0.9693 - val_loss: 0.0036 - val_accuracy: 1.0000\n",
      "Epoch 36/100\n",
      "10/10 - 0s - loss: 0.1085 - accuracy: 0.9649 - val_loss: 0.0073 - val_accuracy: 1.0000\n",
      "Epoch 37/100\n",
      "10/10 - 0s - loss: 0.0995 - accuracy: 0.9737 - val_loss: 0.0032 - val_accuracy: 1.0000\n",
      "Epoch 38/100\n",
      "10/10 - 0s - loss: 0.0940 - accuracy: 0.9868 - val_loss: 0.0030 - val_accuracy: 1.0000\n",
      "Epoch 39/100\n",
      "10/10 - 0s - loss: 0.0687 - accuracy: 0.9825 - val_loss: 9.9734e-04 - val_accuracy: 1.0000\n",
      "Epoch 40/100\n",
      "10/10 - 0s - loss: 0.1104 - accuracy: 0.9605 - val_loss: 8.1114e-04 - val_accuracy: 1.0000\n",
      "Epoch 41/100\n",
      "10/10 - 0s - loss: 0.0642 - accuracy: 0.9868 - val_loss: 0.0054 - val_accuracy: 1.0000\n",
      "Epoch 42/100\n",
      "10/10 - 0s - loss: 0.0567 - accuracy: 0.9912 - val_loss: 0.0058 - val_accuracy: 1.0000\n",
      "Epoch 43/100\n",
      "10/10 - 0s - loss: 0.0493 - accuracy: 0.9912 - val_loss: 0.0014 - val_accuracy: 1.0000\n",
      "Epoch 44/100\n",
      "10/10 - 0s - loss: 0.0433 - accuracy: 0.9868 - val_loss: 5.9551e-04 - val_accuracy: 1.0000\n",
      "Epoch 45/100\n",
      "10/10 - 0s - loss: 0.0418 - accuracy: 0.9956 - val_loss: 2.4473e-04 - val_accuracy: 1.0000\n",
      "Epoch 46/100\n",
      "10/10 - 0s - loss: 0.0405 - accuracy: 0.9912 - val_loss: 2.6125e-04 - val_accuracy: 1.0000\n",
      "Epoch 47/100\n",
      "10/10 - 0s - loss: 0.0647 - accuracy: 0.9825 - val_loss: 0.0012 - val_accuracy: 1.0000\n",
      "Epoch 48/100\n",
      "10/10 - 0s - loss: 0.0416 - accuracy: 0.9956 - val_loss: 0.0015 - val_accuracy: 1.0000\n",
      "Epoch 49/100\n",
      "10/10 - 0s - loss: 0.0426 - accuracy: 0.9956 - val_loss: 0.0020 - val_accuracy: 1.0000\n",
      "Epoch 50/100\n",
      "10/10 - 0s - loss: 0.0505 - accuracy: 0.9825 - val_loss: 0.0047 - val_accuracy: 1.0000\n",
      "Epoch 51/100\n",
      "10/10 - 0s - loss: 0.0182 - accuracy: 0.9956 - val_loss: 0.0034 - val_accuracy: 1.0000\n",
      "Epoch 52/100\n",
      "10/10 - 0s - loss: 0.0440 - accuracy: 0.9868 - val_loss: 0.0018 - val_accuracy: 1.0000\n",
      "Epoch 53/100\n",
      "10/10 - 0s - loss: 0.0416 - accuracy: 0.9912 - val_loss: 8.5397e-04 - val_accuracy: 1.0000\n",
      "Epoch 54/100\n",
      "10/10 - 0s - loss: 0.0261 - accuracy: 0.9956 - val_loss: 0.0019 - val_accuracy: 1.0000\n",
      "Epoch 55/100\n",
      "10/10 - 0s - loss: 0.0415 - accuracy: 0.9912 - val_loss: 0.0047 - val_accuracy: 1.0000\n",
      "Epoch 56/100\n",
      "10/10 - 0s - loss: 0.0356 - accuracy: 0.9912 - val_loss: 0.0164 - val_accuracy: 1.0000\n",
      "Epoch 57/100\n",
      "10/10 - 0s - loss: 0.0454 - accuracy: 0.9912 - val_loss: 0.0058 - val_accuracy: 1.0000\n",
      "Epoch 58/100\n",
      "10/10 - 0s - loss: 0.0289 - accuracy: 0.9912 - val_loss: 0.0012 - val_accuracy: 1.0000\n",
      "Epoch 59/100\n",
      "10/10 - 0s - loss: 0.0180 - accuracy: 0.9956 - val_loss: 0.0010 - val_accuracy: 1.0000\n",
      "Epoch 60/100\n",
      "10/10 - 0s - loss: 0.0206 - accuracy: 0.9956 - val_loss: 0.0026 - val_accuracy: 1.0000\n",
      "Epoch 61/100\n",
      "10/10 - 0s - loss: 0.0306 - accuracy: 0.9912 - val_loss: 0.0020 - val_accuracy: 1.0000\n",
      "Epoch 62/100\n",
      "10/10 - 0s - loss: 0.0262 - accuracy: 1.0000 - val_loss: 0.0026 - val_accuracy: 1.0000\n",
      "Epoch 63/100\n",
      "10/10 - 0s - loss: 0.0125 - accuracy: 1.0000 - val_loss: 0.0031 - val_accuracy: 1.0000\n",
      "Epoch 64/100\n",
      "10/10 - 0s - loss: 0.0291 - accuracy: 0.9868 - val_loss: 0.0106 - val_accuracy: 1.0000\n",
      "Epoch 65/100\n",
      "10/10 - 0s - loss: 0.0194 - accuracy: 0.9956 - val_loss: 0.0183 - val_accuracy: 1.0000\n",
      "Epoch 66/100\n",
      "10/10 - 0s - loss: 0.0210 - accuracy: 0.9956 - val_loss: 8.5476e-04 - val_accuracy: 1.0000\n",
      "Epoch 67/100\n",
      "10/10 - 0s - loss: 0.0254 - accuracy: 0.9912 - val_loss: 1.6084e-04 - val_accuracy: 1.0000\n",
      "Epoch 68/100\n",
      "10/10 - 0s - loss: 0.0152 - accuracy: 1.0000 - val_loss: 1.3133e-04 - val_accuracy: 1.0000\n",
      "Epoch 69/100\n",
      "10/10 - 0s - loss: 0.0255 - accuracy: 0.9956 - val_loss: 4.9796e-05 - val_accuracy: 1.0000\n",
      "Epoch 70/100\n",
      "10/10 - 0s - loss: 0.0397 - accuracy: 0.9868 - val_loss: 3.9637e-04 - val_accuracy: 1.0000\n",
      "Epoch 71/100\n",
      "10/10 - 0s - loss: 0.0085 - accuracy: 1.0000 - val_loss: 0.0022 - val_accuracy: 1.0000\n",
      "Epoch 72/100\n",
      "10/10 - 0s - loss: 0.0349 - accuracy: 0.9956 - val_loss: 0.0059 - val_accuracy: 1.0000\n",
      "Epoch 73/100\n",
      "10/10 - 0s - loss: 0.0192 - accuracy: 0.9956 - val_loss: 0.0108 - val_accuracy: 1.0000\n",
      "Epoch 74/100\n",
      "10/10 - 0s - loss: 0.0091 - accuracy: 1.0000 - val_loss: 0.0037 - val_accuracy: 1.0000\n",
      "Epoch 75/100\n",
      "10/10 - 0s - loss: 0.0190 - accuracy: 0.9912 - val_loss: 0.0039 - val_accuracy: 1.0000\n",
      "Epoch 76/100\n",
      "10/10 - 0s - loss: 0.0217 - accuracy: 0.9956 - val_loss: 0.0017 - val_accuracy: 1.0000\n",
      "Epoch 77/100\n",
      "10/10 - 0s - loss: 0.0170 - accuracy: 0.9956 - val_loss: 5.3187e-04 - val_accuracy: 1.0000\n",
      "Epoch 78/100\n",
      "10/10 - 0s - loss: 0.0101 - accuracy: 1.0000 - val_loss: 4.9979e-04 - val_accuracy: 1.0000\n",
      "Epoch 79/100\n",
      "10/10 - 0s - loss: 0.0107 - accuracy: 0.9956 - val_loss: 6.6219e-04 - val_accuracy: 1.0000\n",
      "Epoch 80/100\n",
      "10/10 - 0s - loss: 0.0102 - accuracy: 1.0000 - val_loss: 5.8505e-04 - val_accuracy: 1.0000\n",
      "Epoch 81/100\n",
      "10/10 - 0s - loss: 0.0126 - accuracy: 1.0000 - val_loss: 1.9612e-04 - val_accuracy: 1.0000\n",
      "Epoch 82/100\n",
      "10/10 - 0s - loss: 0.0140 - accuracy: 0.9956 - val_loss: 1.2165e-04 - val_accuracy: 1.0000\n",
      "Epoch 83/100\n",
      "10/10 - 0s - loss: 0.0140 - accuracy: 0.9956 - val_loss: 1.6204e-04 - val_accuracy: 1.0000\n",
      "Epoch 84/100\n",
      "10/10 - 0s - loss: 0.0160 - accuracy: 0.9912 - val_loss: 2.3205e-04 - val_accuracy: 1.0000\n",
      "Epoch 85/100\n",
      "10/10 - 0s - loss: 0.0105 - accuracy: 1.0000 - val_loss: 4.2509e-04 - val_accuracy: 1.0000\n",
      "Epoch 86/100\n",
      "10/10 - 0s - loss: 0.0176 - accuracy: 0.9912 - val_loss: 5.8049e-04 - val_accuracy: 1.0000\n",
      "Epoch 87/100\n",
      "10/10 - 0s - loss: 0.0053 - accuracy: 1.0000 - val_loss: 6.1351e-04 - val_accuracy: 1.0000\n",
      "Epoch 88/100\n",
      "10/10 - 0s - loss: 0.0082 - accuracy: 0.9956 - val_loss: 1.7689e-04 - val_accuracy: 1.0000\n",
      "Epoch 89/100\n",
      "10/10 - 0s - loss: 0.0095 - accuracy: 1.0000 - val_loss: 1.5099e-04 - val_accuracy: 1.0000\n",
      "Epoch 90/100\n",
      "10/10 - 0s - loss: 0.0078 - accuracy: 1.0000 - val_loss: 8.7269e-05 - val_accuracy: 1.0000\n",
      "Epoch 91/100\n",
      "10/10 - 0s - loss: 0.0046 - accuracy: 1.0000 - val_loss: 3.0505e-05 - val_accuracy: 1.0000\n",
      "Epoch 92/100\n",
      "10/10 - 0s - loss: 0.0053 - accuracy: 1.0000 - val_loss: 1.5566e-05 - val_accuracy: 1.0000\n",
      "Epoch 93/100\n",
      "10/10 - 0s - loss: 0.0105 - accuracy: 0.9956 - val_loss: 1.4552e-05 - val_accuracy: 1.0000\n",
      "Epoch 94/100\n",
      "10/10 - 0s - loss: 0.0092 - accuracy: 0.9956 - val_loss: 3.5656e-05 - val_accuracy: 1.0000\n",
      "Epoch 95/100\n",
      "10/10 - 0s - loss: 0.0202 - accuracy: 0.9912 - val_loss: 7.2166e-04 - val_accuracy: 1.0000\n",
      "Epoch 96/100\n",
      "10/10 - 0s - loss: 0.0145 - accuracy: 0.9956 - val_loss: 4.0477e-04 - val_accuracy: 1.0000\n",
      "Epoch 97/100\n",
      "10/10 - 0s - loss: 0.0067 - accuracy: 1.0000 - val_loss: 7.8073e-05 - val_accuracy: 1.0000\n",
      "Epoch 98/100\n",
      "10/10 - 0s - loss: 0.0089 - accuracy: 1.0000 - val_loss: 5.4238e-05 - val_accuracy: 1.0000\n",
      "Epoch 99/100\n",
      "10/10 - 0s - loss: 0.0128 - accuracy: 0.9956 - val_loss: 6.1638e-05 - val_accuracy: 1.0000\n",
      "Epoch 100/100\n",
      "10/10 - 0s - loss: 0.0078 - accuracy: 1.0000 - val_loss: 2.6090e-04 - val_accuracy: 1.0000\n"
     ]
    }
   ],
   "source": [
    "history=cnn_model.fit(\n",
    "    np.array(x_train), np.array(y_train), batch_size=24,\n",
    "    epochs=100, verbose=2,\n",
    "    validation_data=(np.array(x_valid),np.array(y_valid)),\n",
    ")"
   ]
  },
  {
   "cell_type": "markdown",
   "metadata": {
    "colab_type": "text",
    "id": "7OL2N66mVbhh"
   },
   "source": [
    "### Evaluate the test data\n"
   ]
  },
  {
   "cell_type": "code",
   "execution_count": 11,
   "metadata": {
    "colab": {},
    "colab_type": "code",
    "id": "dR-7mrUiVbhi",
    "outputId": "a23def26-45b6-43c8-fbef-4ad055f8a136"
   },
   "outputs": [
    {
     "name": "stdout",
     "output_type": "stream",
     "text": [
      "test los 0.4311\n",
      "test acc 0.9062\n"
     ]
    }
   ],
   "source": [
    "score = cnn_model.evaluate( np.array(x_test),  np.array(y_test), verbose=0)\n",
    "\n",
    "print('test los {:.4f}'.format(score[0]))\n",
    "print('test acc {:.4f}'.format(score[1]))"
   ]
  },
  {
   "cell_type": "markdown",
   "metadata": {
    "colab_type": "text",
    "id": "RXae7pNGVbhl"
   },
   "source": [
    "### Plot the result"
   ]
  },
  {
   "cell_type": "code",
   "execution_count": 12,
   "metadata": {
    "colab": {},
    "colab_type": "code",
    "id": "63LEMMb2Vbhl",
    "outputId": "335526dd-d451-4f55-8bc4-10df7dc2af81"
   },
   "outputs": [
    {
     "name": "stdout",
     "output_type": "stream",
     "text": [
      "dict_keys(['loss', 'accuracy', 'val_loss', 'val_accuracy'])\n"
     ]
    }
   ],
   "source": [
    "print(history.history.keys())"
   ]
  },
  {
   "cell_type": "code",
   "execution_count": 13,
   "metadata": {
    "colab": {},
    "colab_type": "code",
    "id": "X5R8CIyXVbhp",
    "outputId": "92531e64-3c08-44e8-e193-0eeb1047bfce"
   },
   "outputs": [
    {
     "data": {
      "image/png": "[encoded data removed]",
      "text/plain": [
       "<Figure size 432x288 with 1 Axes>"
      ]
     },
     "metadata": {
      "needs_background": "light"
     },
     "output_type": "display_data"
    },
    {
     "data": {
      "image/png": "[encoded data removed]",
      "text/plain": [
       "<Figure size 432x288 with 1 Axes>"
      ]
     },
     "metadata": {
      "needs_background": "light"
     },
     "output_type": "display_data"
    }
   ],
   "source": [
    "# summarize history for accuracy\n",
    "plt.plot(history.history['accuracy'])\n",
    "plt.plot(history.history['val_accuracy'])\n",
    "plt.title('model accuracy')\n",
    "plt.ylabel('accuracy')\n",
    "plt.xlabel('epoch')\n",
    "plt.legend(['train', 'test'], loc='upper left')\n",
    "plt.show()\n",
    "# summarize history for loss\n",
    "plt.plot(history.history['loss'])\n",
    "plt.plot(history.history['val_loss'])\n",
    "plt.title('model loss')\n",
    "plt.ylabel('loss')\n",
    "plt.xlabel('epoch')\n",
    "plt.legend(['train', 'test'], loc='upper left')\n",
    "plt.show()"
   ]
  },
  {
   "cell_type": "markdown",
   "metadata": {
    "colab_type": "text",
    "id": "xE3E8cG1Vbhu"
   },
   "source": [
    "## Plot the Confusion matrix"
   ]
  },
  {
   "cell_type": "code",
   "execution_count": 15,
   "metadata": {},
   "outputs": [],
   "source": [
    "predicted =np.array( cnn_model.predict(x_test))"
   ]
  },
  {
   "cell_type": "code",
   "execution_count": 16,
   "metadata": {},
   "outputs": [
    {
     "name": "stdout",
     "output_type": "stream",
     "text": [
      "[[9.61878717e-01 1.50003871e-02 6.92085450e-07 ... 3.89940142e-05\n",
      "  9.57194343e-03 1.16480594e-04]\n",
      " [9.64621067e-01 9.89409891e-05 1.90520293e-08 ... 2.39355013e-05\n",
      "  3.98121010e-05 4.52576978e-06]\n",
      " [9.27619338e-01 3.13056575e-04 5.17530789e-05 ... 5.59864938e-03\n",
      "  5.99055376e-04 3.05532361e-04]\n",
      " ...\n",
      " [2.41528966e-07 4.19061081e-07 4.05769587e-01 ... 1.76335336e-04\n",
      "  9.91468596e-09 3.92065674e-01]\n",
      " [2.65031090e-08 2.66672401e-07 7.82576054e-02 ... 2.54143242e-06\n",
      "  2.81993828e-09 9.18095589e-01]\n",
      " [8.33695526e-13 9.09422676e-11 1.44462539e-10 ... 2.31196694e-11\n",
      "  3.32153975e-14 1.00000000e+00]]\n"
     ]
    }
   ],
   "source": [
    "print(predicted)"
   ]
  },
  {
   "cell_type": "code",
   "execution_count": 17,
   "metadata": {},
   "outputs": [
    {
     "name": "stdout",
     "output_type": "stream",
     "text": [
      "[ 0  0  0  0  0  0  0  0  1  1  1  1  1  1  1  1  2  2  2  2  2  2  2  2\n",
      "  3  3  3  3  3  3  3  3  4  4  4  4  4  4  4  4  5  5  5  5  5  5  5  5\n",
      "  6  6  6  6  6  6  6  6  7  7  7  7  7  7  7  7  8  8  8  8  8  8  8  8\n",
      "  9  9  9  9  9  9  9  9 10 10 10 10 10 10 10 10 11 11 11 11 11 11 11 11\n",
      " 12 12 12 12 12 12 12 12 13 13 13 13 13 13 13 13 14 14 14 14 14 14 14 14\n",
      " 15 15 15 15 15 15 15 15 16 16 16 16 16 16 16 16 17 17 17 17 17 17 17 17\n",
      " 18 18 18 18 18 18 18 18 19 19 19 19 19 19 19 19]\n"
     ]
    }
   ],
   "source": [
    "print(y_test)"
   ]
  },
  {
   "cell_type": "code",
   "execution_count": 18,
   "metadata": {},
   "outputs": [],
   "source": [
    "ynew = cnn_model.predict_classes(x_test)"
   ]
  },
  {
   "cell_type": "markdown",
   "metadata": {},
   "source": [
    "### Check the Accuracy "
   ]
  },
  {
   "cell_type": "code",
   "execution_count": 19,
   "metadata": {},
   "outputs": [
    {
     "name": "stdout",
     "output_type": "stream",
     "text": [
      "accuracy : \n",
      "0.90625\n"
     ]
    }
   ],
   "source": [
    "Acc=accuracy_score(y_test, ynew)\n",
    "print(\"accuracy : \")\n",
    "print(Acc)"
   ]
  },
  {
   "cell_type": "code",
   "execution_count": 20,
   "metadata": {},
   "outputs": [],
   "source": [
    "cnf_matrix=confusion_matrix(np.array(y_test), ynew)"
   ]
  },
  {
   "cell_type": "code",
   "execution_count": 21,
   "metadata": {},
   "outputs": [],
   "source": [
    "y_test1 = np_utils.to_categorical(y_test, 20)"
   ]
  },
  {
   "cell_type": "code",
   "execution_count": 55,
   "metadata": {},
   "outputs": [
    {
     "name": "stdout",
     "output_type": "stream",
     "text": [
      "Confusion matrix, without normalization\n",
      "[[8 0 0 0 0 0 0 0 0 0 0 0 0 0 0 0 0 0 0 0]\n",
      " [0 8 0 0 0 0 0 0 0 0 0 0 0 0 0 0 0 0 0 0]\n",
      " [0 0 8 0 0 0 0 0 0 0 0 0 0 0 0 0 0 0 0 0]\n",
      " [0 0 1 7 0 0 0 0 0 0 0 0 0 0 0 0 0 0 0 0]\n",
      " [0 0 0 0 2 0 0 0 4 0 0 0 0 0 0 0 0 2 0 0]\n",
      " [0 0 0 0 0 8 0 0 0 0 0 0 0 0 0 0 0 0 0 0]\n",
      " [0 0 0 0 0 0 8 0 0 0 0 0 0 0 0 0 0 0 0 0]\n",
      " [0 0 0 0 0 0 0 8 0 0 0 0 0 0 0 0 0 0 0 0]\n",
      " [0 0 0 0 0 0 0 0 8 0 0 0 0 0 0 0 0 0 0 0]\n",
      " [0 0 0 0 0 0 0 2 0 6 0 0 0 0 0 0 0 0 0 0]\n",
      " [0 0 0 0 0 0 0 0 0 0 8 0 0 0 0 0 0 0 0 0]\n",
      " [0 0 0 0 0 0 0 0 0 0 0 8 0 0 0 0 0 0 0 0]\n",
      " [0 0 0 0 0 0 0 0 0 0 0 0 8 0 0 0 0 0 0 0]\n",
      " [0 0 0 0 0 0 0 0 0 0 0 0 0 8 0 0 0 0 0 0]\n",
      " [0 0 0 0 0 0 0 0 0 0 0 0 0 0 8 0 0 0 0 0]\n",
      " [1 0 0 0 0 0 0 0 0 0 2 0 0 0 0 5 0 0 0 0]\n",
      " [0 0 0 0 0 0 0 0 0 0 0 0 0 0 0 0 8 0 0 0]\n",
      " [0 0 0 0 0 0 0 0 0 0 0 0 0 0 0 0 0 8 0 0]\n",
      " [0 0 0 0 0 0 0 2 0 0 0 0 0 0 0 0 0 0 6 0]\n",
      " [0 0 1 0 0 0 0 0 0 0 0 0 0 0 0 0 0 0 0 7]]\n",
      "Confusion matrix, without normalization\n"
     ]
    },
    {
     "data": {
      "image/png": "[encoded data removed]",
      "text/plain": [
       "<Figure size 432x288 with 2 Axes>"
      ]
     },
     "metadata": {
      "needs_background": "light"
     },
     "output_type": "display_data"
    },
    {
     "name": "stdout",
     "output_type": "stream",
     "text": [
      "Confusion matrix, without normalization\n"
     ]
    },
    {
     "data": {
      "image/png": "[encoded data removed]",
      "text/plain": [
       "<Figure size 432x288 with 2 Axes>"
      ]
     },
     "metadata": {
      "needs_background": "light"
     },
     "output_type": "display_data"
    },
    {
     "name": "stdout",
     "output_type": "stream",
     "text": [
      "Confusion matrix:\n",
      "[[8 0 0 0 0 0 0 0 0 0 0 0 0 0 0 0 0 0 0 0]\n",
      " [0 8 0 0 0 0 0 0 0 0 0 0 0 0 0 0 0 0 0 0]\n",
      " [0 0 8 0 0 0 0 0 0 0 0 0 0 0 0 0 0 0 0 0]\n",
      " [0 0 1 7 0 0 0 0 0 0 0 0 0 0 0 0 0 0 0 0]\n",
      " [0 0 0 0 2 0 0 0 4 0 0 0 0 0 0 0 0 2 0 0]\n",
      " [0 0 0 0 0 8 0 0 0 0 0 0 0 0 0 0 0 0 0 0]\n",
      " [0 0 0 0 0 0 8 0 0 0 0 0 0 0 0 0 0 0 0 0]\n",
      " [0 0 0 0 0 0 0 8 0 0 0 0 0 0 0 0 0 0 0 0]\n",
      " [0 0 0 0 0 0 0 0 8 0 0 0 0 0 0 0 0 0 0 0]\n",
      " [0 0 0 0 0 0 0 2 0 6 0 0 0 0 0 0 0 0 0 0]\n",
      " [0 0 0 0 0 0 0 0 0 0 8 0 0 0 0 0 0 0 0 0]\n",
      " [0 0 0 0 0 0 0 0 0 0 0 8 0 0 0 0 0 0 0 0]\n",
      " [0 0 0 0 0 0 0 0 0 0 0 0 8 0 0 0 0 0 0 0]\n",
      " [0 0 0 0 0 0 0 0 0 0 0 0 0 8 0 0 0 0 0 0]\n",
      " [0 0 0 0 0 0 0 0 0 0 0 0 0 0 8 0 0 0 0 0]\n",
      " [1 0 0 0 0 0 0 0 0 0 2 0 0 0 0 5 0 0 0 0]\n",
      " [0 0 0 0 0 0 0 0 0 0 0 0 0 0 0 0 8 0 0 0]\n",
      " [0 0 0 0 0 0 0 0 0 0 0 0 0 0 0 0 0 8 0 0]\n",
      " [0 0 0 0 0 0 0 2 0 0 0 0 0 0 0 0 0 0 6 0]\n",
      " [0 0 1 0 0 0 0 0 0 0 0 0 0 0 0 0 0 0 0 7]]\n",
      "              precision    recall  f1-score   support\n",
      "\n",
      "           0       0.89      1.00      0.94         8\n",
      "           1       1.00      1.00      1.00         8\n",
      "           2       0.80      1.00      0.89         8\n",
      "           3       1.00      0.88      0.93         8\n",
      "           4       1.00      0.25      0.40         8\n",
      "           5       1.00      1.00      1.00         8\n",
      "           6       1.00      1.00      1.00         8\n",
      "           7       0.67      1.00      0.80         8\n",
      "           8       0.67      1.00      0.80         8\n",
      "           9       1.00      0.75      0.86         8\n",
      "          10       0.80      1.00      0.89         8\n",
      "          11       1.00      1.00      1.00         8\n",
      "          12       1.00      1.00      1.00         8\n",
      "          13       1.00      1.00      1.00         8\n",
      "          14       1.00      1.00      1.00         8\n",
      "          15       1.00      0.62      0.77         8\n",
      "          16       1.00      1.00      1.00         8\n",
      "          17       0.80      1.00      0.89         8\n",
      "          18       1.00      0.75      0.86         8\n",
      "          19       1.00      0.88      0.93         8\n",
      "\n",
      "    accuracy                           0.91       160\n",
      "   macro avg       0.93      0.91      0.90       160\n",
      "weighted avg       0.93      0.91      0.90       160\n",
      "\n"
     ]
    }
   ],
   "source": [
    "def plot_confusion_matrix(cm, classes,\n",
    "                          normalize=False,\n",
    "                          title='Confusion matrix',\n",
    "                          cmap=plt.cm.Blues):\n",
    "    \"\"\"\n",
    "    This function prints and plots the confusion matrix.\n",
    "    Normalization can be applied by setting `normalize=True`.\n",
    "    \"\"\"\n",
    "    if normalize:\n",
    "        cm = cm.astype('float') / cm.sum(axis=1)[:, np.newaxis]\n",
    "        #print(\"Normalized confusion matrix\")\n",
    "    else:\n",
    "        print('Confusion matrix, without normalization')\n",
    "\n",
    "    #print(cm)\n",
    "    plt.imshow(cm, interpolation='nearest', cmap=cmap)\n",
    "    plt.title(title)\n",
    "    plt.colorbar()\n",
    "    tick_marks = np.arange(len(classes))\n",
    "    plt.xticks(tick_marks, classes, rotation=45)\n",
    "    plt.yticks(tick_marks, classes)\n",
    "\n",
    "    fmt = '.2f' if normalize else 'd'\n",
    "    thresh = cm.max() / 2.\n",
    "    for i, j in itertools.product(range(cm.shape[0]), range(cm.shape[1])):\n",
    "        plt.text(j, i, format(cm[i, j], fmt),\n",
    "                 horizontalalignment=\"center\",\n",
    "                 color=\"white\" if cm[i, j] > thresh else \"black\")\n",
    "\n",
    "    plt.tight_layout()\n",
    "    plt.ylabel('True label')\n",
    "    plt.xlabel('Predicted label')\n",
    "    plt.show()\n",
    "\n",
    "\n",
    "print('Confusion matrix, without normalization')\n",
    "print(cnf_matrix)\n",
    "\n",
    "plt.figure()\n",
    "plot_confusion_matrix(cnf_matrix[1:10,1:10], classes=[0,1,2,3,4,5,6,7,8,9],\n",
    "                      title='Confusion matrix, without normalization')\n",
    "\n",
    "plt.figure()\n",
    "plot_confusion_matrix(cnf_matrix[11:20,11:20], classes=[10,11,12,13,14,15,16,17,18,19],\n",
    "                      title='Confusion matrix, without normalization')\n",
    "\n",
    "print(\"Confusion matrix:\\n%s\" % confusion_matrix(np.array(y_test), ynew))\n",
    "print(classification_report(np.array(y_test), ynew))"
   ]
  },
  {
   "cell_type": "markdown",
   "metadata": {},
   "source": [
    "### The Finale Output is ...\n",
    "\n",
    "\n"
   ]
  },
  {
   "cell_type": "raw",
   "metadata": {},
   "source": [
    "                precision    recall  f1-score   support\n",
    "accuracy                               0.91       160\n",
    "   macro avg       0.93      0.91      0.90       160\n",
    "weighted avg       0.93      0.91      0.90       160"
   ]
  },
  {
   "cell_type": "markdown",
   "metadata": {},
   "source": [
    "### ---- The Project End. ----"
   ]
  }
 ],
 "metadata": {
  "colab": {
   "collapsed_sections": [],
   "name": "Face_recognition.ipynb",
   "provenance": []
  },
  "instance_type": "ml.g4dn.xlarge",
  "kernelspec": {
   "display_name": "Python 3",
   "language": "python",
   "name": "python3"
  },
  "language_info": {
   "codemirror_mode": {
    "name": "ipython",
    "version": 3
   },
   "file_extension": ".py",
   "mimetype": "text/x-python",
   "name": "python",
   "nbconvert_exporter": "python",
   "pygments_lexer": "ipython3",
   "version": "3.8.5"
  }
 },
 "nbformat": 4,
 "nbformat_minor": 4
}
